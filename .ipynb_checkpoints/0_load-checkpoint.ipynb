{
 "cells": [
  {
   "cell_type": "markdown",
   "metadata": {},
   "source": [
    "# 1.0 Load Data"
   ]
  },
  {
   "cell_type": "code",
   "execution_count": 13,
   "metadata": {
    "collapsed": true
   },
   "outputs": [],
   "source": [
    "## import the packages\n",
    "import pandas as pd"
   ]
  },
  {
   "cell_type": "code",
   "execution_count": 14,
   "metadata": {
    "collapsed": false
   },
   "outputs": [],
   "source": [
    "## paths of train, test, and sample submission files\n",
    "path_train = \"../data/Allstate_Claims_Severity/train.csv\"\n",
    "path_test = \"../data/Allstate_Claims_Severity/test.csv\"\n",
    "path_submit = \"../data/Allstate_Claims_Severity/sample_submission.csv\""
   ]
  },
  {
   "cell_type": "code",
   "execution_count": 23,
   "metadata": {
    "collapsed": false
   },
   "outputs": [],
   "source": [
    "## load data\n",
    "dt_train = pd.read_csv(path_train)\n",
    "dt_test = pd.read_csv(path_test)\n",
    "dt_sampleSubmit = pd.read_csv(path_submit)"
   ]
  },
  {
   "cell_type": "code",
   "execution_count": 25,
   "metadata": {
    "collapsed": false
   },
   "outputs": [
    {
     "name": "stdout",
     "output_type": "stream",
     "text": [
      "Variable          Type         Data/Info\n",
      "----------------------------------------\n",
      "dt_sampleSubmit   DataFrame                id  loss\\n0  <...>[125546 rows x 2 columns]\n",
      "dt_test           DataFrame                id cat1 cat2 <...>25546 rows x 131 columns]\n",
      "dt_train          DataFrame                id cat1 cat2 <...>88318 rows x 132 columns]\n",
      "path_submit       str          ../data/Allstate_Claims_S<...>ity/sample_submission.csv\n",
      "path_test         str          ../data/Allstate_Claims_Severity/test.csv\n",
      "path_train        str          ../data/Allstate_Claims_Severity/train.csv\n",
      "pd                module       <module 'pandas' from '/U<...>ages/pandas/__init__.py'>\n"
     ]
    }
   ],
   "source": [
    "## current variables\n",
    "%whos"
   ]
  }
 ],
 "metadata": {
  "anaconda-cloud": {},
  "kernelspec": {
   "display_name": "Python [conda env:datasci]",
   "language": "python",
   "name": "conda-env-datasci-py"
  },
  "language_info": {
   "codemirror_mode": {
    "name": "ipython",
    "version": 3
   },
   "file_extension": ".py",
   "mimetype": "text/x-python",
   "name": "python",
   "nbconvert_exporter": "python",
   "pygments_lexer": "ipython3",
   "version": "3.5.2"
  }
 },
 "nbformat": 4,
 "nbformat_minor": 1
}
